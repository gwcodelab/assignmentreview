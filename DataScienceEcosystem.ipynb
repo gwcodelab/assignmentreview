{
 "cells": [
  {
   "cell_type": "raw",
   "id": "05ce2801-e6b6-4ee9-8a01-770b25d63506",
   "metadata": {
    "tags": []
   },
   "source": [
    "# Data Science Tools and Ecosystem"
   ]
  },
  {
   "cell_type": "markdown",
   "id": "122926b8-f3a6-494b-b39b-3a210cf29271",
   "metadata": {},
   "source": [
    "***In this notebook, Data Science Tools and Ecosystem are summarized***"
   ]
  },
  {
   "cell_type": "markdown",
   "id": "00db7f9b-f4a4-46a2-ad75-8932f89fd6ef",
   "metadata": {},
   "source": [
    "### Objectives:\n",
    "\n",
    "* Some of the popular languages that Data Scientists use are\n",
    "* Some of the commonly used libraries used by Data Scientists include\n",
    "* Below are a few examples of evaluating arithmetic expressions in Python\n"
   ]
  },
  {
   "cell_type": "markdown",
   "id": "0d17c50f-b8b3-4c5a-81de-16a12651fa1c",
   "metadata": {},
   "source": [
    "*Some of the popular languages that Data Scientists use are*"
   ]
  },
  {
   "cell_type": "markdown",
   "id": "3ba63f81-c09b-4c54-a3e3-d7ba0a23b8d6",
   "metadata": {},
   "source": [
    "1. R\n",
    "2. Python\n",
    "3. Julia"
   ]
  },
  {
   "cell_type": "markdown",
   "id": "0558afdd-715b-4231-93b3-4d4d82f334d5",
   "metadata": {},
   "source": [
    "*Some of the commonly used libraries used by Data Scientists include*"
   ]
  },
  {
   "cell_type": "raw",
   "id": "aeaa0e77-66e1-473a-89c9-d7d50dbae09a",
   "metadata": {},
   "source": [
    "1. NumPy\n",
    "2. Pandas\n",
    "3. SciPy"
   ]
  },
  {
   "cell_type": "raw",
   "id": "9ee82146-f3eb-4571-8502-2497c10f44ab",
   "metadata": {},
   "source": [
    "|Data Science Tools|\n",
    "--------------------\n",
    "|Jupyter Notebook|\n",
    "|RStudio|\n",
    "|Git|\n",
    "|GitHub|"
   ]
  },
  {
   "cell_type": "code",
   "execution_count": null,
   "id": "94dbee56-1249-4cdb-9c69-cdba46caf5f9",
   "metadata": {},
   "outputs": [],
   "source": [
    "### Below are a few examples of evaluating arithmetic expressions in Python"
   ]
  },
  {
   "cell_type": "code",
   "execution_count": 1,
   "id": "101adab9-ff1c-43b1-a84d-e7cc006a4eb1",
   "metadata": {
    "tags": []
   },
   "outputs": [
    {
     "data": {
      "text/plain": [
       "17"
      ]
     },
     "execution_count": 1,
     "metadata": {},
     "output_type": "execute_result"
    }
   ],
   "source": [
    "(3*4)+5 # This a simple arithmetic expression to multiply then add intergers"
   ]
  },
  {
   "cell_type": "code",
   "execution_count": 2,
   "id": "0db1984a-b868-4b60-8bcd-becad8add518",
   "metadata": {
    "tags": []
   },
   "outputs": [
    {
     "data": {
      "text/plain": [
       "3.3333333333333335"
      ]
     },
     "execution_count": 2,
     "metadata": {},
     "output_type": "execute_result"
    }
   ],
   "source": [
    "200 / 60 # this will convert 200 minutes to hours by diving by 60"
   ]
  },
  {
   "cell_type": "markdown",
   "id": "2bfc8d00-f93f-4d50-b65a-31a8335df3b9",
   "metadata": {},
   "source": [
    "## Author"
   ]
  },
  {
   "cell_type": "markdown",
   "id": "a7b42c88-45f6-4910-bb1f-8a76eac4fd83",
   "metadata": {},
   "source": [
    "Guoqi Wang"
   ]
  },
  {
   "cell_type": "code",
   "execution_count": null,
   "id": "a1d485d9-eddb-4cd1-a04a-a4e3046edc3f",
   "metadata": {},
   "outputs": [],
   "source": []
  }
 ],
 "metadata": {
  "kernelspec": {
   "display_name": "Python",
   "language": "python",
   "name": "conda-env-python-py"
  },
  "language_info": {
   "codemirror_mode": {
    "name": "ipython",
    "version": 3
   },
   "file_extension": ".py",
   "mimetype": "text/x-python",
   "name": "python",
   "nbconvert_exporter": "python",
   "pygments_lexer": "ipython3",
   "version": "3.7.12"
  }
 },
 "nbformat": 4,
 "nbformat_minor": 5
}
